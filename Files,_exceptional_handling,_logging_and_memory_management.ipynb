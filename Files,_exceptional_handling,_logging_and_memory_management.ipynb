{
  "nbformat": 4,
  "nbformat_minor": 0,
  "metadata": {
    "colab": {
      "provenance": []
    },
    "kernelspec": {
      "name": "python3",
      "display_name": "Python 3"
    },
    "language_info": {
      "name": "python"
    }
  },
  "cells": [
    {
      "cell_type": "markdown",
      "source": [
        "# **Practical Questions**"
      ],
      "metadata": {
        "id": "LKtA0ZOYmtSe"
      }
    },
    {
      "cell_type": "markdown",
      "source": [
        "# **Assignment Questions**"
      ],
      "metadata": {
        "id": "nbYgXf_gpZK_"
      }
    },
    {
      "cell_type": "markdown",
      "source": [
        "###**1. What is the difference between interpreted and compiled languages?**"
      ],
      "metadata": {
        "id": "bP7yC0fRj2zK"
      }
    },
    {
      "cell_type": "markdown",
      "source": [
        "**Compiled** and **interpreted** languages differ in how they execute code. A **compiled language** uses a compiler to translate the entire source code into machine code before execution, resulting in faster performance at runtime. In contrast, an **interpreted language** relies on an interpreter to execute the code line-by-line at runtime, allowing for more flexibility and easier debugging but generally slower execution."
      ],
      "metadata": {
        "id": "p_A8rWz9VMm0"
      }
    },
    {
      "cell_type": "markdown",
      "source": [
        "###**2. What is exception handling in Python?**"
      ],
      "metadata": {
        "id": "KrF7gfcrkCqP"
      }
    },
    {
      "cell_type": "markdown",
      "source": [
        "**Exception handling** in Python is a mechanism that allows you to gracefully handle errors that occur during the execution of a program. Instead of crashing the program, Python lets you catch and respond to exceptions (errors) using the **try, except, else, and finally blocks.**"
      ],
      "metadata": {
        "id": "IDYypRC6VOF4"
      }
    },
    {
      "cell_type": "markdown",
      "source": [
        "###**3. What is the purpose of the finally block in exception handling?**"
      ],
      "metadata": {
        "id": "LpW3svqykJSL"
      }
    },
    {
      "cell_type": "markdown",
      "source": [
        "The **finally** block in Python's exception handling is used to define a block of code that will be executed regardless of whether an exception is raised or not."
      ],
      "metadata": {
        "id": "D5PMTGyTVw1u"
      }
    },
    {
      "cell_type": "markdown",
      "source": [
        "###**4. What is logging in Python?**"
      ],
      "metadata": {
        "id": "Y3QWAeWUkODY"
      }
    },
    {
      "cell_type": "markdown",
      "source": [
        "**Logging** in Python is the process of tracking events that happen when your code runs. It's a way to report status, errors, and information for debugging and monitoring, without using print() statements."
      ],
      "metadata": {
        "id": "yG4TmoHtV8-P"
      }
    },
    {
      "cell_type": "markdown",
      "source": [
        "###**5. What is the significance of the __del __ method in Python?**"
      ],
      "metadata": {
        "id": "cQlW48sIkU07"
      }
    },
    {
      "cell_type": "markdown",
      "source": [
        "The **__del __** method in Python is known as the destructor method. It's called automatically when an object is about to be destroyed—i.e., when there are no more references to it."
      ],
      "metadata": {
        "id": "OEypFaLQWLnb"
      }
    },
    {
      "cell_type": "markdown",
      "source": [
        "###**6. What is the difference between import and from ... import in Python?**"
      ],
      "metadata": {
        "id": "V1S8ZSKqkdYC"
      }
    },
    {
      "cell_type": "markdown",
      "source": [
        "The **import statement** is used to load an entire module into the current namespace, allowing access to its **functions, classes, or variables** using dot notation **(module_name.item).** In contrast, the **from ... import** statement is used to import specific attributes (such as **functions, classes, or variables**) from a module directly into the current namespace, enabling their use without prefixing them with the module name."
      ],
      "metadata": {
        "id": "V7d6-FgxWRKo"
      }
    },
    {
      "cell_type": "markdown",
      "source": [
        "###**7. How can you handle multiple exceptions in Python?**"
      ],
      "metadata": {
        "id": "P_-Edi8lkkbl"
      }
    },
    {
      "cell_type": "markdown",
      "source": [
        "In Python, **multiple exceptions** can be handled using multiple except blocks following a single try block. Each except block can catch a specific type of exception and handle it accordingly. Alternatively, a single except block can handle multiple exception types by grouping them in a tuple. Python also allows the use of a general except Exception block to catch all exceptions, though it should be used cautiously to avoid masking unexpected errors. Additionally, the else block can be used to define code that runs only if no exception occurs, and the finally block defines code that executes regardless of whether an exception was raised or not."
      ],
      "metadata": {
        "id": "SQ-TDMscXVSj"
      }
    },
    {
      "cell_type": "markdown",
      "source": [
        "###**8. What is the purpose of the with statement when handling files in Python?**"
      ],
      "metadata": {
        "id": "EG4gaOaHkp8s"
      }
    },
    {
      "cell_type": "markdown",
      "source": [
        "The **with statement** is used to simplify the process of working with files and other resources that need to be properly managed. When handling files, the with statement ensures that the file is automatically closed after its block of code is executed, even if an exception occurs. This promotes cleaner, safer, and more readable code by eliminating the need to explicitly call file.close()."
      ],
      "metadata": {
        "id": "LxJa1LgtX3E8"
      }
    },
    {
      "cell_type": "markdown",
      "source": [
        "###**9. What is the difference between multithreading and multiprocessing?**"
      ],
      "metadata": {
        "id": "kk9euBp2kxrt"
      }
    },
    {
      "cell_type": "markdown",
      "source": [
        "**Multithreading** involves running multiple threads (smaller units of a process) within a single process. These threads share the same memory space and can execute independently, but are managed by the same operating system process. Multithreading is ideal for I/O-bound tasks (like reading files, network operations, etc.) since it allows the program to handle multiple tasks concurrently without requiring multiple processes.\n",
        "\n",
        "On the other hand,\n",
        "\n",
        "**Multiprocessing** involves running multiple processes, each with its own memory space and resources. These processes run independently and do not share memory, which helps avoid issues related to the Global Interpreter Lock (GIL) in Python. Multiprocessing is better suited for CPU-bound tasks (like complex calculations) because each process can run on a separate CPU core, enabling true parallelism."
      ],
      "metadata": {
        "id": "w9vXY63OYORz"
      }
    },
    {
      "cell_type": "markdown",
      "source": [
        "###**10. What are the advantages of using logging in a program?**"
      ],
      "metadata": {
        "id": "Z5Tkqjd7k12o"
      }
    },
    {
      "cell_type": "markdown",
      "source": [
        "Advantages of using logging in a program\n",
        "\n",
        "* Persisting and storing log messages for future reference (in files, databases, etc.).\n",
        "\n",
        "* Categorizing messages with severity levels (DEBUG, INFO, ERROR, etc.) for better filtering.\n",
        "\n",
        "* Easier debugging by providing detailed error and event information.\n",
        "\n",
        "* Separation of concerns by keeping application logic separate from output handling.\n",
        "\n",
        "* Performance monitoring by tracking task execution times and resource usage.\n",
        "\n",
        "* Error tracking in production without cluttering the interface.\n",
        "\n",
        "* Remote monitoring by sending logs to remote systems for real-time tracking.\n",
        "\n",
        "* Security and compliance by auditing critical application events."
      ],
      "metadata": {
        "id": "B4AipDe-ZW6f"
      }
    },
    {
      "cell_type": "markdown",
      "source": [
        "###**11. What is memory management in Python?**"
      ],
      "metadata": {
        "id": "5xqjixMak6dq"
      }
    },
    {
      "cell_type": "markdown",
      "source": [
        "**Ans:-** Python manages memory automatically through a private heap space where all objects and data structures are stored.\n",
        "It uses reference counting and a garbage collector to free up unused memory."
      ],
      "metadata": {
        "id": "92zcpIu9iQgu"
      }
    },
    {
      "cell_type": "markdown",
      "source": [
        "###**12. What are the basic steps involved in exception handling in Python?**"
      ],
      "metadata": {
        "id": "cUPoqlkXk_Lu"
      }
    },
    {
      "cell_type": "markdown",
      "source": [
        "**Ans:-** Exception handling in Python involves using try, except, else, and finally blocks to manage errors gracefully.\n",
        "\n",
        "**Basic Steps:**\n",
        "\n",
        "**try block**:- Code that may raise an exception goes here.\n",
        "\n",
        "**except block**:- Catches and handles specific or general exceptions.\n",
        "\n",
        "**else block** *(optional)*:- Executes if no exception occurs.\n",
        "\n",
        "**finally block** *(optional)*:- Executes no matter what (for cleanup)."
      ],
      "metadata": {
        "id": "ssh3Mh0bidoi"
      }
    },
    {
      "cell_type": "markdown",
      "source": [
        "###**13. Why is memory management important in Python?**"
      ],
      "metadata": {
        "id": "hR0rc9vVlEgG"
      }
    },
    {
      "cell_type": "markdown",
      "source": [
        "**Ans:-** Python handles memory automatically, but good memory management helps your program run faster, avoid unnecessary memory usage, and stay stable, especially in large or long-running applications.\n",
        "\n"
      ],
      "metadata": {
        "id": "tb-XfaLujRD4"
      }
    },
    {
      "cell_type": "markdown",
      "source": [
        "###**14. What is the role of try and except in exception handling?**"
      ],
      "metadata": {
        "id": "BBwOKEfxlIon"
      }
    },
    {
      "cell_type": "markdown",
      "source": [
        "**Ans:-** The try block lets you test code for errors, and the except block lets you handle those errors gracefully.\n"
      ],
      "metadata": {
        "id": "NF1g9YgzjlmC"
      }
    },
    {
      "cell_type": "markdown",
      "source": [
        "###**15. How does Python's garbage collection system work?**"
      ],
      "metadata": {
        "id": "a86SgnZslQL8"
      }
    },
    {
      "cell_type": "markdown",
      "source": [
        "**Ans:-** Python’s garbage collection automatically frees up memory by removing objects that are no longer in use."
      ],
      "metadata": {
        "id": "CFgq6O2sjrCv"
      }
    },
    {
      "cell_type": "markdown",
      "source": [
        "###**16. What is the purpose of the else block in exception handling?**"
      ],
      "metadata": {
        "id": "qHlCdy8nlWGB"
      }
    },
    {
      "cell_type": "markdown",
      "source": [
        "**Ans:-** **Purpose of the else Block in Exception Handling:**\n",
        "\n",
        "* The else block runs only if no exception occurs in the try block.\n",
        "\n",
        "* It helps separate the code that should run if everything goes right from the error-handling code in the except block."
      ],
      "metadata": {
        "id": "ek1OQOyYncei"
      }
    },
    {
      "cell_type": "markdown",
      "source": [
        "###**17. What are the common logging levels in Python?**"
      ],
      "metadata": {
        "id": "cGQ57rkLlbY0"
      }
    },
    {
      "cell_type": "markdown",
      "source": [
        "**Ans:-**\n",
        "1. **DEBUG:**\n",
        "\n",
        "* Detailed information for diagnosing issues.\n",
        "\n",
        "* Example: logging.debug(\"Debugging details.\")\n",
        "\n",
        "2. **INFO:**\n",
        "\n",
        "* General information about the application's normal execution.\n",
        "\n",
        "* Example: logging.info(\"System started successfully.\")\n",
        "\n",
        "3. **WARNING:**\n",
        "\n",
        "* Indicates a potential issue or something unexpected, but the program can continue.\n",
        "\n",
        "* Example: logging.warning(\"Low memory warning.\")\n",
        "\n",
        "4. **ERROR:**\n",
        "\n",
        "* Indicates a serious problem that prevents part of the program from running.\n",
        "\n",
        "* Example: logging.error(\"File not found.\")\n",
        "\n",
        "5. **CRITICAL:**\n",
        "\n",
        "* Indicates a very serious error that could stop the program entirely.\n",
        "\n",
        "* Example: logging.critical(\"System failure!\")"
      ],
      "metadata": {
        "id": "CUGc4nB0msBL"
      }
    },
    {
      "cell_type": "markdown",
      "source": [
        "###**18. What is the difference between os.fork() and multiprocessing in Python?**"
      ],
      "metadata": {
        "id": "1X6R773wlhNL"
      }
    },
    {
      "cell_type": "markdown",
      "source": [
        "**Ans:-** os.fork() creates a child process by duplicating the current process (Unix only), while multiprocessing is a cross-platform Python module for spawning processes and managing them easily."
      ],
      "metadata": {
        "id": "h4vp5k4akKge"
      }
    },
    {
      "cell_type": "markdown",
      "source": [
        "###**19.  What is the importance of closing a file in Python?**"
      ],
      "metadata": {
        "id": "yrPqkba0lnAh"
      }
    },
    {
      "cell_type": "markdown",
      "source": [
        "**Ans:-** Closing a file in Python is important to free up system resources and ensure data is properly saved.\n",
        "\n",
        "**Why it's important:**\n",
        "\n",
        "1. **Flushes Data**: Ensures all data is written from buffer to disk.\n",
        "\n",
        "2. **Frees Resources**: Releases file handles and memory.\n",
        "\n",
        "3. **Prevents Errors**: Avoids file corruption and access issues in large apps."
      ],
      "metadata": {
        "id": "5ArnRgAEksZF"
      }
    },
    {
      "cell_type": "markdown",
      "source": [
        "###**20. What is the difference between file.read() and file.readline() in Python?**"
      ],
      "metadata": {
        "id": "-6c2vDlXmKpZ"
      }
    },
    {
      "cell_type": "markdown",
      "source": [
        "**Ans:-** **file.read():**\n",
        "1. Reads the entire file content at once as a single string.\n",
        "\n",
        "2. Useful when you need to process the whole file in memory, but can be memory-heavy for large files.\n",
        "\n",
        "\n",
        "**file.readline():**\n",
        "1. Reads one line from the file at a time, returning it as a string.\n",
        "\n",
        "2. More memory-efficient for large files as it loads only one line into memory at a time."
      ],
      "metadata": {
        "id": "lySaCFfqk_Ei"
      }
    },
    {
      "cell_type": "markdown",
      "source": [
        "###**21. What is the logging module in Python used for?**"
      ],
      "metadata": {
        "id": "RzSS7HfumQmq"
      }
    },
    {
      "cell_type": "markdown",
      "source": [
        "**Ans:-** The logging module in Python is used to add logging capabilities to your program, allowing you to record and track events, errors, and information during execution.\n",
        "\n",
        "**Purpose of the logging module:**\n",
        "1. **Track Events:** Helps monitor and record various events (errors, info, warnings, etc.) during program execution.\n",
        "\n",
        "2. **Error Handling:** Helps track exceptions, warnings, and debugging info for troubleshooting.\n",
        "\n",
        "3. **Log Levels:** Allows you to categorize messages by importance using levels like DEBUG, INFO, WARNING, ERROR, and CRITICAL.\n",
        "\n",
        "4. **Output Flexibility:** Logs can be output to different destinations like files, console, or remote servers.\n",
        "\n"
      ],
      "metadata": {
        "id": "yYuJGbRLlg6H"
      }
    },
    {
      "cell_type": "markdown",
      "source": [
        "###**22. What is the os module in Python used for in file handling?**"
      ],
      "metadata": {
        "id": "qJA2rRvzmVCN"
      }
    },
    {
      "cell_type": "markdown",
      "source": [
        "**Ans:-** The os module in Python provides functions to interact with the operating system, enabling file handling tasks like creating, deleting, and manipulating files and directories.\n",
        "\n"
      ],
      "metadata": {
        "id": "EdFPduQhl8Ee"
      }
    },
    {
      "cell_type": "markdown",
      "source": [
        "###**23. What are the challenges associated with memory management in Python?**"
      ],
      "metadata": {
        "id": "mmIRDlWMmcZi"
      }
    },
    {
      "cell_type": "markdown",
      "source": [
        "**Ans:-** Memory management in Python can be challenging due to issues like garbage collection overhead, cyclic references, and large memory consumption in certain data structures."
      ],
      "metadata": {
        "id": "0QMMbVOImFI_"
      }
    },
    {
      "cell_type": "markdown",
      "source": [
        "###**24. How do you raise an exception manually in Python?**"
      ],
      "metadata": {
        "id": "ZneJdH2HmgX8"
      }
    },
    {
      "cell_type": "markdown",
      "source": [
        "**Ans:-**\n",
        "* You can raise an exception manually using the raise keyword, followed by the exception class (e.g., raise ValueError(\"Error message\")).\n",
        "\n",
        "* You can also define and raise custom exceptions by creating a class that inherits from the built-in Exception class."
      ],
      "metadata": {
        "id": "g037nxBImSsC"
      }
    },
    {
      "cell_type": "markdown",
      "source": [
        "###**25. Why is it important to use multithreading in certain applications?**"
      ],
      "metadata": {
        "id": "I41P5qxRmlTV"
      }
    },
    {
      "cell_type": "markdown",
      "source": [
        "**Ans:-** Multithreading is important in certain applications to enable concurrent execution of tasks, improving performance and responsiveness, especially for I/O-bound and real-time applications."
      ],
      "metadata": {
        "id": "1MCo5EwNmWur"
      }
    },
    {
      "cell_type": "markdown",
      "source": [
        "#**Practicle Questions :-**"
      ],
      "metadata": {
        "id": "jMvjDqIXfEOA"
      }
    },
    {
      "cell_type": "markdown",
      "source": [
        "###**1. How can you open a file for writing in Python and write a string to it?**"
      ],
      "metadata": {
        "id": "IMZR8nXWmvz8"
      }
    },
    {
      "cell_type": "code",
      "source": [
        "with open(\"example.txt\", \"w\") as file:\n",
        "    file.write(\"Hello, this is a test.\")"
      ],
      "metadata": {
        "id": "x3HkcLrOvz08"
      },
      "execution_count": null,
      "outputs": []
    },
    {
      "cell_type": "markdown",
      "source": [
        "###**2. Write a Python program to read the contents of a file and print each line?**"
      ],
      "metadata": {
        "id": "q1B4F4o5m4nL"
      }
    },
    {
      "cell_type": "code",
      "source": [
        "with open(\"example.txt\", \"r\") as file:\n",
        "    for line in file:\n",
        "        print(line.strip())\n"
      ],
      "metadata": {
        "colab": {
          "base_uri": "https://localhost:8080/"
        },
        "id": "8wXAZ-2lwRk7",
        "outputId": "c6fb411e-dd58-4cb2-b17d-e836dea8a0b3"
      },
      "execution_count": null,
      "outputs": [
        {
          "output_type": "stream",
          "name": "stdout",
          "text": [
            "Hello, this is a test.\n"
          ]
        }
      ]
    },
    {
      "cell_type": "markdown",
      "source": [
        "###**3. How would you handle a case where the file doesn't exist while trying to open it for reading?**"
      ],
      "metadata": {
        "id": "8Xn73dPwm8_o"
      }
    },
    {
      "cell_type": "code",
      "source": [
        "try:\n",
        "    with open(\"missing_file.txt\", \"r\") as file:\n",
        "        print(file.read())\n",
        "except FileNotFoundError:\n",
        "    print(\"The file does not exist.\")\n"
      ],
      "metadata": {
        "colab": {
          "base_uri": "https://localhost:8080/"
        },
        "id": "MbqhXBO6XB5k",
        "outputId": "00bc9d06-0468-4fdf-ec98-690ef3319e6a"
      },
      "execution_count": null,
      "outputs": [
        {
          "output_type": "stream",
          "name": "stdout",
          "text": [
            "The file does not exist.\n"
          ]
        }
      ]
    },
    {
      "cell_type": "markdown",
      "source": [
        "###**4. Write a Python script that reads from one file and writes its content to another file?**"
      ],
      "metadata": {
        "id": "VHS4054inEWr"
      }
    },
    {
      "cell_type": "code",
      "source": [
        "with open(\"source.txt\", \"r\") as source_file:\n",
        "    content = source_file.read()\n",
        "\n",
        "with open(\"destination.txt\", \"w\") as dest_file:\n",
        "    dest_file.write(content)\n"
      ],
      "metadata": {
        "id": "W9uFuOiYX8KL"
      },
      "execution_count": null,
      "outputs": []
    },
    {
      "cell_type": "markdown",
      "source": [
        "###**5. How would you catch and handle division by zero error in Python?**"
      ],
      "metadata": {
        "id": "2nrZKFkOnKrq"
      }
    },
    {
      "cell_type": "code",
      "source": [
        "try:\n",
        "    result = 10 / 0\n",
        "except ZeroDivisionError:\n",
        "    print(\"You can't divide by zero!\")\n"
      ],
      "metadata": {
        "id": "zDz_JExIYGZC",
        "colab": {
          "base_uri": "https://localhost:8080/"
        },
        "outputId": "76bd8a00-2902-471a-e4c4-29e3f9ac755b"
      },
      "execution_count": null,
      "outputs": [
        {
          "output_type": "stream",
          "name": "stdout",
          "text": [
            "You can't divide by zero!\n"
          ]
        }
      ]
    },
    {
      "cell_type": "markdown",
      "source": [
        "###**6. Write a Python program that logs an error message to a log file when a division by zero exception occurs?**"
      ],
      "metadata": {
        "id": "EO5C2jmcnRGR"
      }
    },
    {
      "cell_type": "code",
      "source": [
        "import logging\n",
        "\n",
        "# Configure logging to write to a file\n",
        "logging.basicConfig(filename=\"error_log.txt\", level=logging.ERROR)\n",
        "\n",
        "try:\n",
        "  result = 10 / 0\n",
        "except ZeroDivisionError as e:\n",
        "  logging.error(\"Division by zero occurred: %s\", e)\n"
      ],
      "metadata": {
        "id": "o0HN-MIgfO3a",
        "colab": {
          "base_uri": "https://localhost:8080/"
        },
        "outputId": "88b7b8ec-d636-4d14-d8e3-8e832e76082b"
      },
      "execution_count": null,
      "outputs": [
        {
          "output_type": "stream",
          "name": "stderr",
          "text": [
            "ERROR:root:Division by zero occurred: division by zero\n"
          ]
        }
      ]
    },
    {
      "cell_type": "markdown",
      "source": [
        "###**7. How do you log information at different levels (INFO, ERROR, WARNING) in Python using the logging module?**"
      ],
      "metadata": {
        "id": "eRgWkURDnWcc"
      }
    },
    {
      "cell_type": "code",
      "source": [
        "import logging\n",
        "\n",
        "logging.basicConfig(level=logging.DEBUG, force=True)\n",
        "\n",
        "logging.info(\"This is an info message.\")\n",
        "logging.warning(\"This is a warning message.\")\n",
        "logging.error(\"This is an error message.\")\n",
        "\n"
      ],
      "metadata": {
        "colab": {
          "base_uri": "https://localhost:8080/"
        },
        "id": "8WDCa59uftk-",
        "outputId": "b706bb63-5520-40a7-92aa-9f4c706118a5"
      },
      "execution_count": null,
      "outputs": [
        {
          "output_type": "stream",
          "name": "stderr",
          "text": [
            "INFO:root:This is an info message.\n",
            "WARNING:root:This is a warning message.\n",
            "ERROR:root:This is an error message.\n"
          ]
        }
      ]
    },
    {
      "cell_type": "markdown",
      "source": [
        "###**8. Write a program to handle a file opening error using exception handling?**"
      ],
      "metadata": {
        "id": "K9PiqmYvndL8"
      }
    },
    {
      "cell_type": "code",
      "source": [
        "try:\n",
        "    with open(\"nonexistent_file.txt\", \"r\") as file:\n",
        "        content = file.read()\n",
        "        print(content)\n",
        "except FileNotFoundError:\n",
        "    print(\"Error: The file could not be found.\")\n"
      ],
      "metadata": {
        "colab": {
          "base_uri": "https://localhost:8080/"
        },
        "id": "qDFdtOsZfx3u",
        "outputId": "9abf92c8-b4d6-41d2-9a81-c90db0aa0f3a"
      },
      "execution_count": null,
      "outputs": [
        {
          "output_type": "stream",
          "name": "stdout",
          "text": [
            "Error: The file could not be found.\n"
          ]
        }
      ]
    },
    {
      "cell_type": "markdown",
      "source": [
        "###**9. How can you read a file line by line and store its content in a list in Python?**"
      ],
      "metadata": {
        "id": "gi6Wl_Wznj2O"
      }
    },
    {
      "cell_type": "code",
      "source": [
        "with open(\"example.txt\", \"r\") as file:\n",
        "    lines = file.readlines()\n",
        "print(lines)"
      ],
      "metadata": {
        "id": "Ay_7i9Pmf8fk",
        "colab": {
          "base_uri": "https://localhost:8080/"
        },
        "outputId": "93d06d58-4aa4-4963-e4de-b1e741fb663d"
      },
      "execution_count": null,
      "outputs": [
        {
          "output_type": "stream",
          "name": "stdout",
          "text": [
            "['Hello, this is a test.']\n"
          ]
        }
      ]
    },
    {
      "cell_type": "markdown",
      "source": [
        "###**10. How can you append data to an existing file in Python?**"
      ],
      "metadata": {
        "id": "AiledYoSnrdL"
      }
    },
    {
      "cell_type": "code",
      "source": [
        "with open(\"example.txt\", \"a\") as file:\n",
        "    file.write(\"This is a new line.\\n\")\n"
      ],
      "metadata": {
        "id": "U-GME0_vgbcn"
      },
      "execution_count": null,
      "outputs": []
    },
    {
      "cell_type": "markdown",
      "source": [
        "###**11. Write a Python program that uses a try-except block to handle an error when attempting to access a dictionary key that doesn't exist.**"
      ],
      "metadata": {
        "id": "IziRZWzAnxVM"
      }
    },
    {
      "cell_type": "code",
      "source": [
        "my_dict = {\"name\": \"Alice\", \"age\": 25}\n",
        "\n",
        "try:\n",
        "    print(my_dict[\"address\"])\n",
        "except KeyError:\n",
        "    print(\"Error: The key 'address' does not exist in the dictionary.\")\n"
      ],
      "metadata": {
        "id": "cxjsv4-dgwnu",
        "colab": {
          "base_uri": "https://localhost:8080/"
        },
        "outputId": "0ceb7d02-7f23-43a5-da65-5440f9735f1c"
      },
      "execution_count": null,
      "outputs": [
        {
          "output_type": "stream",
          "name": "stdout",
          "text": [
            "Error: The key 'address' does not exist in the dictionary.\n"
          ]
        }
      ]
    },
    {
      "cell_type": "markdown",
      "source": [
        "###**12. Write a program that demonstrates using multiple except blocks to handle different types of exceptions.**"
      ],
      "metadata": {
        "id": "UlEQcautn89K"
      }
    },
    {
      "cell_type": "code",
      "source": [
        "try:\n",
        "    num = int(input(\"Enter a number: \"))\n",
        "    result = 10 / num\n",
        "    print(\"Result:\", result)\n",
        "except ValueError:\n",
        "    print(\"Error: Please enter a valid number.\")\n",
        "except ZeroDivisionError:\n",
        "    print(\"Error: Division by zero is not allowed.\")\n"
      ],
      "metadata": {
        "id": "1ZiWkto6g7mw",
        "colab": {
          "base_uri": "https://localhost:8080/"
        },
        "outputId": "e30696dd-c142-411f-ac3c-37ebf83933f6"
      },
      "execution_count": null,
      "outputs": [
        {
          "output_type": "stream",
          "name": "stdout",
          "text": [
            "Enter a number: 0\n",
            "Error: Division by zero is not allowed.\n"
          ]
        }
      ]
    },
    {
      "cell_type": "markdown",
      "source": [
        "###**13. How would you check if a file exists before attempting to read it in Python?**"
      ],
      "metadata": {
        "id": "l230X7FQoGVJ"
      }
    },
    {
      "cell_type": "code",
      "source": [
        "import os\n",
        "\n",
        "if os.path.exists(\"example.txt\"):\n",
        "    with open(\"example.txt\", \"r\") as file:\n",
        "        content = file.read()\n",
        "        print(content)\n",
        "else:\n",
        "    print(\"The file does not exist.\")\n"
      ],
      "metadata": {
        "id": "rGzOYnh6g9sC",
        "colab": {
          "base_uri": "https://localhost:8080/"
        },
        "outputId": "72126485-216b-4b81-89b9-b5726ea2d3f4"
      },
      "execution_count": null,
      "outputs": [
        {
          "output_type": "stream",
          "name": "stdout",
          "text": [
            "Hello, this is a test.\n"
          ]
        }
      ]
    },
    {
      "cell_type": "markdown",
      "source": [
        "###**14. Write a program that uses the logging module to log both informational and error messages?**"
      ],
      "metadata": {
        "id": "k4wjb9F_oM9m"
      }
    },
    {
      "cell_type": "code",
      "source": [
        "import logging\n",
        "\n",
        "# Configure logging to log messages to a file\n",
        "logging.basicConfig(filename=\"app.log\", level=logging.DEBUG)\n",
        "\n",
        "# Logging informational message\n",
        "logging.info(\"This is an informational message.\")\n",
        "\n",
        "# Simulate an error and log it\n",
        "try:\n",
        "    result = 10 / 0\n",
        "except ZeroDivisionError as e:\n",
        "    logging.error(\"Error occurred: %s\", e)\n"
      ],
      "metadata": {
        "id": "DkXKOvIEhMbx",
        "colab": {
          "base_uri": "https://localhost:8080/"
        },
        "outputId": "f82ea251-e6e8-4890-b87f-e3af0a2decca"
      },
      "execution_count": null,
      "outputs": [
        {
          "output_type": "stream",
          "name": "stderr",
          "text": [
            "INFO:root:This is an informational message.\n",
            "ERROR:root:Error occurred: division by zero\n"
          ]
        }
      ]
    },
    {
      "cell_type": "markdown",
      "source": [
        "###**15. Write a Python program that prints the content of a file and handles the case when the file is empty?**"
      ],
      "metadata": {
        "id": "UF8H6YgxoS9L"
      }
    },
    {
      "cell_type": "code",
      "source": [
        "with open(\"test.txt\",\"w\")as f:\n",
        "    f.write(\"\")\n",
        "\n",
        "try:\n",
        "    with open(\"test.txt\", \"r\") as file:\n",
        "        content = file.read()\n",
        "        if not content:\n",
        "            print(\"The file is empty.\")\n",
        "        else:\n",
        "            print(content)\n",
        "except FileNotFoundError:\n",
        "    print(\"The file does not exist.\")\n"
      ],
      "metadata": {
        "id": "FwrA5em1hSM7",
        "colab": {
          "base_uri": "https://localhost:8080/"
        },
        "outputId": "0bb95ff6-a421-455d-ed15-74108f905483"
      },
      "execution_count": null,
      "outputs": [
        {
          "output_type": "stream",
          "name": "stdout",
          "text": [
            "The file is empty.\n"
          ]
        }
      ]
    },
    {
      "cell_type": "markdown",
      "source": [
        "###**16. Demonstrate how to use memory profiling to check the memory usage of a small program?**"
      ],
      "metadata": {
        "id": "GmUvZ1pzoYVr"
      }
    },
    {
      "cell_type": "code",
      "source": [
        "\n",
        "from memory_profiler import profile\n",
        "\n",
        "# Function that we will profile\n",
        "@profile\n",
        "def my_function():\n",
        "    a = [i for i in range(10)]  # Create a large list\n",
        "    b = [i * 2 for i in a]  # Create another list based on 'a'\n",
        "    return b\n",
        "\n",
        "# Call the function\n",
        "my_function()"
      ],
      "metadata": {
        "id": "TUjrKY24hZGm",
        "colab": {
          "base_uri": "https://localhost:8080/"
        },
        "outputId": "f6b4d618-3731-494f-8428-ed4be5a282a7"
      },
      "execution_count": 36,
      "outputs": [
        {
          "output_type": "stream",
          "name": "stdout",
          "text": [
            "ERROR: Could not find file <ipython-input-36-12345daad311>\n",
            "NOTE: %mprun can only be used on functions defined in physical files, and not in the IPython environment.\n"
          ]
        },
        {
          "output_type": "execute_result",
          "data": {
            "text/plain": [
              "[0, 2, 4, 6, 8, 10, 12, 14, 16, 18]"
            ]
          },
          "metadata": {},
          "execution_count": 36
        }
      ]
    },
    {
      "cell_type": "markdown",
      "source": [
        "###**17. Write a Python program to create and write a list of numbers to a file, one number per line?**"
      ],
      "metadata": {
        "id": "erJPdCwvoe7S"
      }
    },
    {
      "cell_type": "code",
      "source": [
        "numbers = [1, 2, 3, 4, 5, 6, 7, 8, 9, 10]\n",
        "\n",
        "with open(\"numbers.txt\", \"w\") as file:\n",
        "    for number in numbers:\n",
        "        file.write(f\"{number}\\n\")\n"
      ],
      "metadata": {
        "id": "GFemPQkEhffF"
      },
      "execution_count": 37,
      "outputs": []
    },
    {
      "cell_type": "markdown",
      "source": [
        "###**18. How would you implement a basic logging setup that logs to a file with rotation after 1MB?**"
      ],
      "metadata": {
        "id": "1wVzpKipokYx"
      }
    },
    {
      "cell_type": "code",
      "source": [
        "import logging\n",
        "from logging.handlers import RotatingFileHandler\n",
        "\n",
        "# Create a rotating file handler with a max size of 1MB and 3 backup files\n",
        "handler = RotatingFileHandler(\"app.log\", maxBytes=1e6, backupCount=3)\n",
        "handler.setLevel(logging.INFO)\n",
        "\n",
        "# Create a formatter and set it for the handler\n",
        "formatter = logging.Formatter('%(asctime)s - %(levelname)s - %(message)s')\n",
        "handler.setFormatter(formatter)\n",
        "\n",
        "# Create the logger and add the handler\n",
        "logger = logging.getLogger()\n",
        "logger.setLevel(logging.INFO)\n",
        "logger.addHandler(handler)\n",
        "\n",
        "# Example log messages\n",
        "logger.info(\"This is an info message.\")\n",
        "logger.error(\"This is an error message.\")\n"
      ],
      "metadata": {
        "id": "-j9Hd4AzhlLg",
        "colab": {
          "base_uri": "https://localhost:8080/"
        },
        "outputId": "e41b28f5-2716-4ea3-f1e7-226b2282da86"
      },
      "execution_count": 38,
      "outputs": [
        {
          "output_type": "stream",
          "name": "stderr",
          "text": [
            "INFO:root:This is an info message.\n",
            "ERROR:root:This is an error message.\n"
          ]
        }
      ]
    },
    {
      "cell_type": "markdown",
      "source": [
        "###**19. Write a program that handles both IndexError and KeyError using a try-except block.**"
      ],
      "metadata": {
        "id": "4w-Hf6E-oxtU"
      }
    },
    {
      "cell_type": "code",
      "source": [
        "my_list = [1, 2, 3]\n",
        "my_dict = {\"a\": 1, \"b\": 2}\n",
        "\n",
        "try:\n",
        "    # Trying to access an invalid index\n",
        "    print(my_list[5])\n",
        "\n",
        "    # Trying to access a non-existent key\n",
        "    print(my_dict[\"c\"])\n",
        "\n",
        "except IndexError:\n",
        "    print(\"Error: Index out of range.\")\n",
        "except KeyError:\n",
        "    print(\"Error: Key not found in the dictionary.\")\n"
      ],
      "metadata": {
        "id": "38wPQwA5hrQf"
      },
      "execution_count": null,
      "outputs": []
    },
    {
      "cell_type": "markdown",
      "source": [
        "###**20. How would you open a file and read its contents using a context manager in Python?**"
      ],
      "metadata": {
        "id": "NYTKt6R5o2xP"
      }
    },
    {
      "cell_type": "code",
      "source": [
        "with open(\"example.txt\", \"r\") as file:\n",
        "    content = file.read()\n",
        "    print(content)\n"
      ],
      "metadata": {
        "id": "WLbxJRKfhxqO"
      },
      "execution_count": null,
      "outputs": []
    },
    {
      "cell_type": "markdown",
      "source": [
        "###**21. Write a Python program that reads a file and prints the number of occurrences of a specific word.**"
      ],
      "metadata": {
        "id": "04Ik525oo7t5"
      }
    },
    {
      "cell_type": "code",
      "source": [
        "def count_word_in_file(filename, word):\n",
        "    with open(filename, \"r\") as file:\n",
        "        content = file.read()\n",
        "        word_count = content.lower().split().count(word.lower())\n",
        "    return word_count\n",
        "\n",
        "filename = \"example.txt\"\n",
        "word_to_count = \"python\"\n",
        "\n",
        "count = count_word_in_file(filename, word_to_count)\n",
        "print(f\"The word '{word_to_count}' appears {count} times in the file.\")\n"
      ],
      "metadata": {
        "id": "TE31Kquvh5eO"
      },
      "execution_count": null,
      "outputs": []
    },
    {
      "cell_type": "markdown",
      "source": [
        "###**22. How can you check if a file is empty before attempting to read its contents?**"
      ],
      "metadata": {
        "id": "mYWAdpiwo_rB"
      }
    },
    {
      "cell_type": "code",
      "source": [
        "import os\n",
        "\n",
        "filename = \"example.txt\"\n",
        "\n",
        "if os.path.getsize(filename) == 0:\n",
        "    print(\"The file is empty.\")\n",
        "else:\n",
        "    with open(filename, \"r\") as file:\n",
        "        content = file.read()\n",
        "        print(content)\n"
      ],
      "metadata": {
        "id": "KaP3QBeuiAte"
      },
      "execution_count": null,
      "outputs": []
    },
    {
      "cell_type": "markdown",
      "source": [
        "###**23. Write a Python program that writes to a log file when an error occurs during file handling.**"
      ],
      "metadata": {
        "id": "zECo0eOcpGw4"
      }
    },
    {
      "cell_type": "code",
      "source": [
        "import logging\n",
        "\n",
        "# Set up logging configuration to log errors to a file\n",
        "logging.basicConfig(filename=\"file_error_log.txt\", level=logging.ERROR,\n",
        "                    format='%(asctime)s - %(levelname)s - %(message)s')\n",
        "\n",
        "try:\n",
        "    # Trying to open a file that doesn't exist\n",
        "    with open(\"nonexistent_file.txt\", \"r\") as file:\n",
        "        content = file.read()\n",
        "except Exception as e:\n",
        "    logging.error(\"An error occurred while handling the file: %s\", e)\n"
      ],
      "metadata": {
        "id": "Vt4W4LRDiCHO"
      },
      "execution_count": null,
      "outputs": []
    }
  ]
}